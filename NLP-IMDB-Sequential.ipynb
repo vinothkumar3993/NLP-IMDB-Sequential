{
 "cells": [
  {
   "cell_type": "markdown",
   "metadata": {},
   "source": [
    "### Importing Libraries "
   ]
  },
  {
   "cell_type": "code",
   "execution_count": 1,
   "metadata": {},
   "outputs": [
    {
     "name": "stderr",
     "output_type": "stream",
     "text": [
      "Using TensorFlow backend.\n"
     ]
    }
   ],
   "source": [
    "# Utilities\n",
    "from time import time\n",
    "import itertools\n",
    "import warnings\n",
    "\n",
    "# Numerical calculation\n",
    "import numpy as np\n",
    "\n",
    "# Data Visualization\n",
    "import matplotlib.pyplot as plt\n",
    "import seaborn as sns\n",
    "\n",
    "# Sequential Modeling\n",
    "import keras.backend as K\n",
    "from keras.datasets import imdb\n",
    "from keras.models import Sequential\n",
    "from keras.layers import Dropout, Flatten, Dense, Embedding, LSTM, TimeDistributed, Conv1D, MaxPooling1D\n",
    "from keras.constraints import max_norm, unit_norm\n",
    "from keras.preprocessing.sequence import pad_sequences\n",
    "\n",
    "# Evaluation metrics\n",
    "from sklearn.metrics import confusion_matrix, classification_report, roc_curve, auc, accuracy_score, precision_recall_curve"
   ]
  },
  {
   "cell_type": "code",
   "execution_count": 2,
   "metadata": {},
   "outputs": [],
   "source": [
    "# Configure for any default setting of any library\n",
    "warnings.filterwarnings('ignore')\n",
    "get_ipython().magic(u'matplotlib inline')\n",
    "plt.style.use('ggplot')"
   ]
  },
  {
   "cell_type": "markdown",
   "metadata": {},
   "source": [
    "### Load the Dataset"
   ]
  },
  {
   "cell_type": "code",
   "execution_count": 3,
   "metadata": {},
   "outputs": [],
   "source": [
    "# Load IMDB Data\n",
    "vocab_size = 5000 #vocab size\n",
    "\n",
    "# save np.load\n",
    "old = np.load\n",
    "\n",
    "# modify the default parameters of np.load to allow_pickle to avoid the following error\n",
    "# ValueError: Object arrays cannot be loaded when allow_pickle=False\n",
    "np.load = lambda *a,**k: old(*a, allow_pickle=True, **k)\n",
    "\n",
    "# call load_data with allow_pickle implicitly set to true\n",
    "imdb_data = imdb.load_data(num_words=vocab_size)\n",
    "\n",
    "# restore np.load for future normal usage and delete the old\n",
    "np.load = old\n",
    "del(old)"
   ]
  },
  {
   "cell_type": "markdown",
   "metadata": {},
   "source": [
    "### Split Train and Test"
   ]
  },
  {
   "cell_type": "code",
   "execution_count": 4,
   "metadata": {},
   "outputs": [
    {
     "name": "stdout",
     "output_type": "stream",
     "text": [
      "train_data  (25000,)\n",
      "train_labels  (25000,)\n",
      "__________________________________________________\n",
      "test_data  (25000,)\n",
      "test_labels  (25000,)\n",
      "__________________________________________________\n",
      "Minimum value of a word index : 1\n",
      "Maximum value of a word index : 4999\n",
      "Maximum number of words of review in train : 2494\n",
      "Minimum number of words of review in train : 11\n",
      "Maximum number of words of review in test  : 2315\n",
      "Minimum number of words of review in test  : 7\n"
     ]
    },
    {
     "data": {
      "text/plain": [
       "<matplotlib.axes._subplots.AxesSubplot at 0xfd6c43fb38>"
      ]
     },
     "execution_count": 4,
     "metadata": {},
     "output_type": "execute_result"
    },
    {
     "data": {
      "image/png": "[encoded data removed]",
      "text/plain": [
       "<Figure size 432x288 with 1 Axes>"
      ]
     },
     "metadata": {},
     "output_type": "display_data"
    }
   ],
   "source": [
    "#load dataset as a list\n",
    "(train_data, train_labels), (test_data, test_labels) = imdb_data\n",
    "\n",
    "print(\"train_data \", train_data.shape)\n",
    "print(\"train_labels \", train_labels.shape)\n",
    "print(\"_\"*50)\n",
    "print(\"test_data \", test_data.shape)\n",
    "print(\"test_labels \", test_labels.shape)\n",
    "print(\"_\"*50)\n",
    "print(\"Minimum value of a word index :\", min([min(sequence) for sequence in train_data]))\n",
    "print(\"Maximum value of a word index :\", max([max(sequence) for sequence in train_data]))\n",
    "train_len = [len(sequence) for sequence in train_data]\n",
    "test_len = [len(sequence) for sequence in test_data]\n",
    "print(\"Maximum number of words of review in train :\", max(train_len))\n",
    "print(\"Minimum number of words of review in train :\", min(train_len))\n",
    "print(\"Maximum number of words of review in test  :\", max(test_len))\n",
    "print(\"Minimum number of words of review in test  :\", min(test_len))\n",
    "\n",
    "# Visualize the length of max and min length reviews in both training and test sets\n",
    "sns.barplot(x=['Train set - MAX','Train set - MIN','Test set - MAX','Test set - MIN'], \n",
    "            y=[max(train_len),min(train_len),max(test_len),min(test_len)])"
   ]
  },
  {
   "cell_type": "markdown",
   "metadata": {},
   "source": [
    "### Sentiment Types of Positive and Negative"
   ]
  },
  {
   "cell_type": "code",
   "execution_count": 5,
   "metadata": {},
   "outputs": [
    {
     "name": "stdout",
     "output_type": "stream",
     "text": [
      "[0 1]\n"
     ]
    },
    {
     "data": {
      "image/png": "[encoded data removed]",
      "text/plain": [
       "<Figure size 432x288 with 1 Axes>"
      ]
     },
     "metadata": {},
     "output_type": "display_data"
    }
   ],
   "source": [
    "# The unique Sentiments as Target Column\n",
    "unique, counts = np.unique(np.concatenate((train_labels, test_labels)), return_counts=True)\n",
    "print(unique)\n",
    "sentiments = {1: 'Positive', 0: 'Negative'}\n",
    "\n",
    "# Visualize the Propertion of Positive and Negative Reviewes in the Original Dataset\n",
    "_ = plt.pie(counts, autopct='%1.1f%%', startangle=45)"
   ]
  },
  {
   "cell_type": "markdown",
   "metadata": {},
   "source": [
    "### Reverse From Integers to Words Using the Dictinory"
   ]
  },
  {
   "cell_type": "code",
   "execution_count": 6,
   "metadata": {},
   "outputs": [
    {
     "name": "stdout",
     "output_type": "stream",
     "text": [
      "? as a another reviewer states ? war is an outstanding film about an outstanding person ? ? ? who would become the jewish joan of ? unfortunately i ? in opinion not ? that miss ? as the lead is too beautiful to be taken seriously as a ? fighter in truth for me her performance is not held back by her beauty but makes it all the more ? in the terror of the sadistic ? as a ? she faces ? ? performance is brave poignant ? or understood and totally believable in other words for me in the zone from the opening credits if you would like to learn about the suffering of someone else for something they believe in and be ? entertained give ? war with ? ? a try my hat is off also to ellen ? as ? mother a much well known and famous actress who could have made effort to walk off with the film in that it is a team effort perhaps of two ? but not an all about eve situation\n",
      "\n",
      "The sentiment for the above review is: Positive\n",
      "_____________________________________________________________________________________________________________________________\n",
      "? this movie is recommended only for ? it will ? them by putting them to sleep five year ? might also enjoy it but for anyone else including fans of the genre what a bore the ancient plot is reminiscent of return of the dragon and this film is just as inept but ? is no bruce lee so enter the ninja is an even worse film until now this is the second the offensive comedy ? party was the first film i gave 1 10 to\n",
      "\n",
      "The sentiment for the above review is: Negative\n"
     ]
    }
   ],
   "source": [
    "def interprete_review(sequence):\n",
    "    id_to_word = dict([(value, key) for (key, value) in imdb.get_word_index().items()])\n",
    "    decoded_review = ' '.join([id_to_word.get(idx-3, '?') for idx in sequence])\n",
    "    print(decoded_review)\n",
    "    \n",
    "review_id1 = np.random.choice(train_len)\n",
    "interprete_review(train_data[review_id1])\n",
    "print('\\nThe sentiment for the above review is:', sentiments.get(train_labels[review_id1]))\n",
    "print(\"_\"*125)\n",
    "review_id2 = np.random.choice(test_len)\n",
    "interprete_review(test_data[review_id2])\n",
    "print('\\nThe sentiment for the above review is:', sentiments.get(test_labels[review_id2]))"
   ]
  },
  {
   "cell_type": "markdown",
   "metadata": {},
   "source": [
    "### Analyze, How much portion of Original Data are Trimming Off by Considering 300 as the Maxlen"
   ]
  },
  {
   "cell_type": "code",
   "execution_count": 7,
   "metadata": {},
   "outputs": [
    {
     "name": "stdout",
     "output_type": "stream",
     "text": [
      "x_train : (25000, 1500)\n",
      "x_test  : (25000, 1500)\n"
     ]
    }
   ],
   "source": [
    "maxlen = 1500  #Number of Word used from each Review\n",
    "# maxlen = max([len(sequence) for sequence in np.concatenate([train_data, test_data])])\n",
    "\n",
    "#make all sequences of the same length\n",
    "x_train = pad_sequences(train_data, maxlen=maxlen)\n",
    "x_test =  pad_sequences(test_data, maxlen=maxlen)\n",
    "\n",
    "y_train = train_labels\n",
    "y_test = test_labels\n",
    "\n",
    "print(\"x_train :\", x_train.shape)\n",
    "print(\"x_test  :\", x_test.shape)"
   ]
  },
  {
   "cell_type": "markdown",
   "metadata": {},
   "source": [
    "### Visualize the Random Review After Padding"
   ]
  },
  {
   "cell_type": "code",
   "execution_count": 8,
   "metadata": {},
   "outputs": [
    {
     "data": {
      "text/plain": [
       "array([  0,   0,   0, ..., 676, 496,  12])"
      ]
     },
     "execution_count": 8,
     "metadata": {},
     "output_type": "execute_result"
    }
   ],
   "source": [
    "x_train[np.random.randint(0,len(train_data)-1)]"
   ]
  },
  {
   "cell_type": "markdown",
   "metadata": {},
   "source": [
    "### Plot the Max Word Count of All the Reviews"
   ]
  },
  {
   "cell_type": "code",
   "execution_count": 9,
   "metadata": {},
   "outputs": [
    {
     "data": {
      "text/plain": [
       "<matplotlib.legend.Legend at 0xfd70466780>"
      ]
     },
     "execution_count": 9,
     "metadata": {},
     "output_type": "execute_result"
    },
    {
     "data": {
      "image/png": "[encoded data removed]",
      "text/plain": [
       "<Figure size 432x288 with 1 Axes>"
      ]
     },
     "metadata": {},
     "output_type": "display_data"
    }
   ],
   "source": [
    "imdb_len = [len(sequence) for sequence in np.concatenate((train_data,test_data))]\n",
    "plt.plot(np.sort(imdb_len)[::-1])\n",
    "plt.axhline(maxlen, color='b', label='Max= 300')\n",
    "plt.legend()"
   ]
  },
  {
   "cell_type": "code",
   "execution_count": 10,
   "metadata": {},
   "outputs": [
    {
     "name": "stdout",
     "output_type": "stream",
     "text": [
      "Trimming off 0.02% of data by setting 300 as maxlen\n"
     ]
    }
   ],
   "source": [
    "print('Trimming off %.2f%% of data by setting 300 as maxlen' % (len([i for i in imdb_len if i > maxlen]) / len(imdb_len) * 100))"
   ]
  },
  {
   "cell_type": "markdown",
   "metadata": {},
   "source": [
    "## Build the Keras Sequential Method"
   ]
  },
  {
   "cell_type": "markdown",
   "metadata": {},
   "source": [
    "### Generic Method to Plot the Validation Curves"
   ]
  },
  {
   "cell_type": "code",
   "execution_count": 11,
   "metadata": {},
   "outputs": [],
   "source": [
    "def plot_validation_curve(history, metrics):\n",
    "    plt.clf()\n",
    "    history_dict = history.history\n",
    "    f, ax = plt.subplots(1, len(metrics), figsize=(16,6))\n",
    "    for i, metric in enumerate(metrics):\n",
    "        metric_values = history_dict[metric]\n",
    "        val_metric_values = history_dict['val_' + metric]\n",
    "        epochs = range(1, (len(history_dict[metric]) + 1))\n",
    "        ax[i].plot(epochs, metric_values, 'bo:', label='Training ' + metric)\n",
    "        ax[i].plot(epochs, val_metric_values, 'go-', label='Validation ' + metric)\n",
    "        ax[i].set_title('Training and Validation ' + ('Accuracy' if metric=='acc' else 'Loss'))\n",
    "        ax[i].set_xlabel('Epochs')\n",
    "        ax[i].set_ylabel('Accuracy' if metric=='acc' else 'Loss')\n",
    "        ax[i].legend()"
   ]
  },
  {
   "cell_type": "markdown",
   "metadata": {},
   "source": [
    "### Plot Precision Recall Curve"
   ]
  },
  {
   "cell_type": "code",
   "execution_count": 12,
   "metadata": {},
   "outputs": [],
   "source": [
    "def plot_prec_recall_vs_thresh(precisions, recalls, thresholds):\n",
    "    plt.figure(figsize=(10,5))\n",
    "    plt.plot(thresholds, precisions[:-1], 'b--', label='precision')\n",
    "    plt.plot(thresholds, recalls[:-1], 'g--', label = 'recall')\n",
    "    plt.xlabel('Threshold')\n",
    "    plt.legend()"
   ]
  },
  {
   "cell_type": "markdown",
   "metadata": {},
   "source": [
    "###  Print the Classification Report"
   ]
  },
  {
   "cell_type": "code",
   "execution_count": 13,
   "metadata": {},
   "outputs": [],
   "source": [
    "def classification_summary(y_test, y_pred, y_proba):\n",
    "    print('\\033[1mTesting accuracy:\\033[0m %.2f%%' % (accuracy_score(y_test, y_pred) * 100))\n",
    "    print('_'*80)\n",
    "    print('\\033[1mConfusion matrix:\\033[0m\\n %s' % (confusion_matrix(y_test, y_pred)))\n",
    "    print('_'*80)\n",
    "    print('\\033[1mClassification report:\\033[0m\\n %s' % (classification_report(y_test, y_pred)))\n",
    "    print('_'*80)\n",
    "    print('\\033[1mPrecision-Recall curve\\033[10m')\n",
    "    precision, recall, thresholds = precision_recall_curve(y_test, y_proba)\n",
    "    plot_prec_recall_vs_thresh(precision, recall, thresholds)"
   ]
  },
  {
   "cell_type": "markdown",
   "metadata": {},
   "source": [
    "## Artificial Neural Network (ANN)"
   ]
  },
  {
   "cell_type": "markdown",
   "metadata": {},
   "source": [
    "##### First Deep Learning Model that Going to Develop is a Simple Deep Neural Network"
   ]
  },
  {
   "cell_type": "code",
   "execution_count": 14,
   "metadata": {},
   "outputs": [
    {
     "name": "stdout",
     "output_type": "stream",
     "text": [
      "WARNING:tensorflow:From C:\\Anaconda\\lib\\site-packages\\keras\\backend\\tensorflow_backend.py:74: The name tf.get_default_graph is deprecated. Please use tf.compat.v1.get_default_graph instead.\n",
      "\n",
      "WARNING:tensorflow:From C:\\Anaconda\\lib\\site-packages\\keras\\backend\\tensorflow_backend.py:517: The name tf.placeholder is deprecated. Please use tf.compat.v1.placeholder instead.\n",
      "\n",
      "WARNING:tensorflow:From C:\\Anaconda\\lib\\site-packages\\keras\\backend\\tensorflow_backend.py:4138: The name tf.random_uniform is deprecated. Please use tf.random.uniform instead.\n",
      "\n",
      "WARNING:tensorflow:From C:\\Anaconda\\lib\\site-packages\\keras\\optimizers.py:790: The name tf.train.Optimizer is deprecated. Please use tf.compat.v1.train.Optimizer instead.\n",
      "\n",
      "WARNING:tensorflow:From C:\\Anaconda\\lib\\site-packages\\keras\\backend\\tensorflow_backend.py:3376: The name tf.log is deprecated. Please use tf.math.log instead.\n",
      "\n",
      "WARNING:tensorflow:From C:\\Anaconda\\lib\\site-packages\\tensorflow_core\\python\\ops\\nn_impl.py:183: where (from tensorflow.python.ops.array_ops) is deprecated and will be removed in a future version.\n",
      "Instructions for updating:\n",
      "Use tf.where in 2.0, which has the same broadcast rule as np.where\n",
      "_________________________________________________________________\n",
      "Layer (type)                 Output Shape              Param #   \n",
      "=================================================================\n",
      "embedding_1 (Embedding)      (None, 1500, 300)         1500000   \n",
      "_________________________________________________________________\n",
      "flatten_1 (Flatten)          (None, 450000)            0         \n",
      "_________________________________________________________________\n",
      "dense_1 (Dense)              (None, 1)                 450001    \n",
      "=================================================================\n",
      "Total params: 1,950,001\n",
      "Trainable params: 1,950,001\n",
      "Non-trainable params: 0\n",
      "_________________________________________________________________\n"
     ]
    }
   ],
   "source": [
    "embedding_dim = 300\n",
    "# Build the network\n",
    "ann = Sequential()\n",
    "ann.add(Embedding(input_dim=vocab_size, output_dim=embedding_dim, input_length=maxlen))\n",
    "ann.add(Flatten())\n",
    "ann.add(Dense(1, activation='sigmoid'))\n",
    "ann.compile(optimizer='adam', loss='binary_crossentropy', metrics=['accuracy'])\n",
    "ann.summary()"
   ]
  },
  {
   "cell_type": "markdown",
   "metadata": {},
   "source": [
    "### Train the Model"
   ]
  },
  {
   "cell_type": "code",
   "execution_count": 15,
   "metadata": {},
   "outputs": [
    {
     "name": "stdout",
     "output_type": "stream",
     "text": [
      "WARNING:tensorflow:From C:\\Anaconda\\lib\\site-packages\\keras\\backend\\tensorflow_backend.py:986: The name tf.assign_add is deprecated. Please use tf.compat.v1.assign_add instead.\n",
      "\n",
      "WARNING:tensorflow:From C:\\Anaconda\\lib\\site-packages\\keras\\backend\\tensorflow_backend.py:973: The name tf.assign is deprecated. Please use tf.compat.v1.assign instead.\n",
      "\n",
      "WARNING:tensorflow:From C:\\Anaconda\\lib\\site-packages\\keras\\backend\\tensorflow_backend.py:2741: The name tf.Session is deprecated. Please use tf.compat.v1.Session instead.\n",
      "\n",
      "Train on 20000 samples, validate on 5000 samples\n",
      "Epoch 1/5\n",
      "WARNING:tensorflow:From C:\\Anaconda\\lib\\site-packages\\keras\\backend\\tensorflow_backend.py:174: The name tf.get_default_session is deprecated. Please use tf.compat.v1.get_default_session instead.\n",
      "\n",
      "WARNING:tensorflow:From C:\\Anaconda\\lib\\site-packages\\keras\\backend\\tensorflow_backend.py:181: The name tf.ConfigProto is deprecated. Please use tf.compat.v1.ConfigProto instead.\n",
      "\n",
      "WARNING:tensorflow:From C:\\Anaconda\\lib\\site-packages\\keras\\backend\\tensorflow_backend.py:190: The name tf.global_variables is deprecated. Please use tf.compat.v1.global_variables instead.\n",
      "\n",
      "WARNING:tensorflow:From C:\\Anaconda\\lib\\site-packages\\keras\\backend\\tensorflow_backend.py:199: The name tf.is_variable_initialized is deprecated. Please use tf.compat.v1.is_variable_initialized instead.\n",
      "\n",
      "WARNING:tensorflow:From C:\\Anaconda\\lib\\site-packages\\keras\\backend\\tensorflow_backend.py:206: The name tf.variables_initializer is deprecated. Please use tf.compat.v1.variables_initializer instead.\n",
      "\n",
      "20000/20000 [==============================] - 252s 13ms/step - loss: 1.1327 - acc: 0.5100 - val_loss: 0.6465 - val_acc: 0.6326\n",
      "Epoch 2/5\n",
      "20000/20000 [==============================] - 38s 2ms/step - loss: 0.5128 - acc: 0.7705 - val_loss: 0.3923 - val_acc: 0.8432\n",
      "Epoch 3/5\n",
      "20000/20000 [==============================] - 35s 2ms/step - loss: 0.2718 - acc: 0.9028 - val_loss: 0.3016 - val_acc: 0.8776\n",
      "Epoch 4/5\n",
      "20000/20000 [==============================] - 35s 2ms/step - loss: 0.1852 - acc: 0.9376 - val_loss: 0.2854 - val_acc: 0.8844\n",
      "Epoch 5/5\n",
      "20000/20000 [==============================] - 39s 2ms/step - loss: 0.1311 - acc: 0.9648 - val_loss: 0.2834 - val_acc: 0.8822\n",
      "Time spent: 403.82 sec\n"
     ]
    }
   ],
   "source": [
    "epochs = 5\n",
    "batches = 512\n",
    "start = time()\n",
    "history = ann.fit(x_train, y_train, epochs=epochs, batch_size=batches, validation_split=0.2)\n",
    "print('Time spent: %.2f sec' % (time()-start))"
   ]
  },
  {
   "cell_type": "markdown",
   "metadata": {},
   "source": [
    "### Validation Accuracy of Loss Curve"
   ]
  },
  {
   "cell_type": "code",
   "execution_count": 16,
   "metadata": {},
   "outputs": [
    {
     "data": {
      "text/plain": [
       "<Figure size 432x288 with 0 Axes>"
      ]
     },
     "metadata": {},
     "output_type": "display_data"
    },
    {
     "data": {
      "image/png": "[encoded data removed]",
      "text/plain": [
       "<Figure size 1152x432 with 2 Axes>"
      ]
     },
     "metadata": {},
     "output_type": "display_data"
    }
   ],
   "source": [
    "plot_validation_curve(history, ['acc','loss'])"
   ]
  },
  {
   "cell_type": "markdown",
   "metadata": {},
   "source": [
    "### Finding Loss and Accuracy of Test Set"
   ]
  },
  {
   "cell_type": "code",
   "execution_count": 17,
   "metadata": {},
   "outputs": [
    {
     "name": "stdout",
     "output_type": "stream",
     "text": [
      "25000/25000 [==============================] - 35s 1ms/step\n",
      "Test Loss: 0.2823 and Accuracy: 88.14%\n"
     ]
    }
   ],
   "source": [
    "loss, acc = ann.evaluate(x_test, y_test)\n",
    "print(\"Test Loss: %.4f and Accuracy: %.2f%%\" % (loss, acc * 100))"
   ]
  },
  {
   "cell_type": "markdown",
   "metadata": {},
   "source": [
    "### Analyze the Classification Summary"
   ]
  },
  {
   "cell_type": "code",
   "execution_count": 18,
   "metadata": {},
   "outputs": [
    {
     "name": "stdout",
     "output_type": "stream",
     "text": [
      "\u001b[1mTesting accuracy:\u001b[0m 88.14%\n",
      "________________________________________________________________________________\n",
      "\u001b[1mConfusion matrix:\u001b[0m\n",
      " [[10881  1619]\n",
      " [ 1345 11155]]\n",
      "________________________________________________________________________________\n",
      "\u001b[1mClassification report:\u001b[0m\n",
      "               precision    recall  f1-score   support\n",
      "\n",
      "           0       0.89      0.87      0.88     12500\n",
      "           1       0.87      0.89      0.88     12500\n",
      "\n",
      "    accuracy                           0.88     25000\n",
      "   macro avg       0.88      0.88      0.88     25000\n",
      "weighted avg       0.88      0.88      0.88     25000\n",
      "\n",
      "________________________________________________________________________________\n",
      "\u001b[1mPrecision-Recall curve\u001b[10m\n"
     ]
    },
    {
     "data": {
      "image/png": "[encoded data removed]",
      "text/plain": [
       "<Figure size 720x360 with 1 Axes>"
      ]
     },
     "metadata": {},
     "output_type": "display_data"
    }
   ],
   "source": [
    "y_pred = ann.predict_classes(x_test)\n",
    "y_proba = ann.predict_proba(x_test)\n",
    "classification_summary(y_test, y_pred, y_proba)"
   ]
  },
  {
   "cell_type": "markdown",
   "metadata": {},
   "source": [
    "## Single Instance Prediction"
   ]
  },
  {
   "cell_type": "markdown",
   "metadata": {},
   "source": [
    "#### Predict for a Random Pre-Defined Review From IMDB Dataset"
   ]
  },
  {
   "cell_type": "code",
   "execution_count": 23,
   "metadata": {},
   "outputs": [
    {
     "name": "stdout",
     "output_type": "stream",
     "text": [
      "? i just saw this movie at the berlin film ? children's program and it just killed me and pretty much everyone else in the audience and make no mistake about it this film belongs into the all time ? let me tell you that i'm in no way associated with the creators of this film if that's what you come to believe reading this no but this actually is it ? the ? film ? on it ? girl is on almost every account a classic as in ? the story concerns 12 year old ? ? julie who is ? to learn of her ? ? illness special ? in the us would cost 1 5 million and of course nobody could afford that so ? and her friends ? and ? do what every good kid would and ? a bank sounds corny don't forget this is not america and is by no means the tear ? robin williams ? ? ? ? nobody takes seriously anyway director ? set out to make a big budget action comedy for kids and boy did he succeed let me put it this way this film rocks like no kid film and few others did before and there's a whole lot more to it than just the action after about 20 minutes of by the numbers ? well granted it into a monster that br br ? puts mission impossible to shame the numerous action sequences are ? staged and look real expensive take that mummy br br ? almost every other movie suspense wise no easy they're only kids antics here br br easily ? a ? story with enough laughs to make jim carrey look for career ? br br ? to both damon ? and ? kid within the same seconds br br comes up with so much wicked humor that side of p c that i can hear the american ratings board wet their pants from over here br br manages to actually be tender and serious and sexy at the same time what am i saying they're kids they're kids ? watch that last scene br br stars ? anderson who since last years is ? favourite kid actor br br what a ride\n",
      "\n",
      "The \u001b[1mACTUAL\u001b[0m sentiment    :\u001b[1mPositive\u001b[0m\n",
      "\n",
      "The \u001b[1mPREDICTED\u001b[0m sentiment :\u001b[1mPositive\u001b[0m\n"
     ]
    }
   ],
   "source": [
    "review_id = np.random.choice(test_len)\n",
    "interprete_review(test_data[review_id])\n",
    "print('\\nThe \\033[1mACTUAL\\033[0m sentiment    :\\033[1m' + sentiments.get(test_labels[review_id]) + '\\033[0m')\n",
    "prediction = ann.predict_classes(pad_sequences([test_data[review_id]], maxlen=maxlen))\n",
    "print('\\nThe \\033[1mPREDICTED\\033[0m sentiment :\\033[1m' + sentiments.get(prediction[0][0]) + '\\033[0m')"
   ]
  },
  {
   "cell_type": "markdown",
   "metadata": {},
   "source": [
    "### Predict for a Custom Review Not Present in the IMDB Dataset"
   ]
  },
  {
   "cell_type": "code",
   "execution_count": 24,
   "metadata": {},
   "outputs": [],
   "source": [
    "review = '''This Movie should only be watched if you want to punish yourself by sitting through 3 hours of torture.\n",
    "            Bland movie, extremely slow, boring, monotonous with weak and predictable story with dose of overacting'''\n",
    "word_dict = imdb.get_word_index()\n",
    "words = review.split()\n",
    "review = []\n",
    "for word in words:\n",
    "    if word.lower() not in word_dict:\n",
    "        review.append(2)\n",
    "    else:\n",
    "        review.append(word_dict[word.lower()] + 3)"
   ]
  },
  {
   "cell_type": "markdown",
   "metadata": {},
   "source": [
    "### Generic Method to Print the Name, Size and Output of layer in Keras Model"
   ]
  },
  {
   "cell_type": "code",
   "execution_count": 27,
   "metadata": {},
   "outputs": [],
   "source": [
    "def layer_outs_for_single_instance(model, instance):\n",
    "    outputs = [layer.output for layer in model.layers]                  # All Layer Outputs\n",
    "    function = K.function([model.input, K.learning_phase()], outputs)   # Evaluation Function\n",
    "    \n",
    "    if instance.any():\n",
    "        layer_outs = function([np.array([instance,]), 1.])\n",
    "        print('_'*75)\n",
    "        for idx, out in enumerate(layer_outs):\n",
    "            print('\\033[1mLayer# :', idx + 1)\n",
    "            print('\\033[1mName   :', model.layers[idx].name)\n",
    "            print('\\033[1mShape  : ' + str(out.shape) + '\\033[0m')\n",
    "            print(out)\n",
    "            print('_'*75)"
   ]
  },
  {
   "cell_type": "code",
   "execution_count": 29,
   "metadata": {},
   "outputs": [
    {
     "name": "stdout",
     "output_type": "stream",
     "text": [
      "WARNING:tensorflow:From C:\\Anaconda\\lib\\site-packages\\keras\\backend\\tensorflow_backend.py:133: The name tf.placeholder_with_default is deprecated. Please use tf.compat.v1.placeholder_with_default instead.\n",
      "\n",
      "___________________________________________________________________________\n",
      "\u001b[1mLayer# : 1\n",
      "\u001b[1mName   : embedding_1\n",
      "\u001b[1mShape  : (1, 1500, 300)\u001b[0m\n",
      "[[[-1.1712558e-02  1.9886037e-03  4.6868948e-03 ...  4.9879684e-05\n",
      "    1.1913509e-02 -5.3466670e-04]\n",
      "  [-1.1712558e-02  1.9886037e-03  4.6868948e-03 ...  4.9879684e-05\n",
      "    1.1913509e-02 -5.3466670e-04]\n",
      "  [-1.1712558e-02  1.9886037e-03  4.6868948e-03 ...  4.9879684e-05\n",
      "    1.1913509e-02 -5.3466670e-04]\n",
      "  ...\n",
      "  [-1.5485607e-01  8.4687948e-02  4.2227786e-02 ...  1.0890664e-02\n",
      "   -1.3657656e-01 -1.3122086e-01]\n",
      "  [ 2.7334269e-02  4.6794999e-02 -5.0126992e-02 ... -3.5805974e-02\n",
      "    5.4048538e-02  2.6187945e-02]\n",
      "  [ 1.4696865e-02  2.7763773e-02 -1.3293906e-03 ... -5.2438106e-02\n",
      "    1.3527225e-03 -2.5414138e-03]]]\n",
      "___________________________________________________________________________\n",
      "\u001b[1mLayer# : 2\n",
      "\u001b[1mName   : flatten_1\n",
      "\u001b[1mShape  : (1, 450000)\u001b[0m\n",
      "[[-0.01171256  0.0019886   0.00468689 ... -0.05243811  0.00135272\n",
      "  -0.00254141]]\n",
      "___________________________________________________________________________\n",
      "\u001b[1mLayer# : 3\n",
      "\u001b[1mName   : dense_1\n",
      "\u001b[1mShape  : (1, 1)\u001b[0m\n",
      "[[0.46451604]]\n",
      "___________________________________________________________________________\n"
     ]
    }
   ],
   "source": [
    "layer_outs_for_single_instance(ann, x_test[np.random.choice(test_len)])"
   ]
  },
  {
   "cell_type": "markdown",
   "metadata": {},
   "source": [
    "# OBSERVATIONS:\n",
    "#### - Importing Libraries\n",
    "#### - Configure for any default setting of any library\n",
    "#### - Load the Dataset\n",
    "#### - Split Train and Test\n",
    "#### - Sentiment Types of Positive and Negative\n",
    "#### - Reverse From Integers to Words Using the Dictinory\n",
    "#### - Analyze, How much portion of Original Data are Trimming Off by Considering 300 as the Maxlen\n",
    "#### - Visualize the Random Review After Padding\n",
    "#### - Plot the Max Word Count of All the Reviews\n",
    "#### - Build the Keras Sequential Method\n",
    "#### - Generic Method to Plot the Validation Curves\n",
    "#### - Plot Precision Recall Curve\n",
    "#### - Print the Classification Report\n",
    "#### - Artificial Neural Network (ANN)\n",
    "#### - First Deep Learning Model that Going to Develop is a Simple Deep Neural Network\n",
    "#### - Train the Model\n",
    "#### - Validation Accuracy of Loss Curve\n",
    "#### - Finding Loss and Accuracy of Test Set\n",
    "#### - Analyze the Classification Summary\n",
    "#### - Single Instance Prediction\n",
    "#### - Predict for a Random Pre-Defined Review From IMDB Dataset\n",
    "#### - Predict for a Custom Review Not Present in the IMDB Dataset\n",
    "#### - Generic Method to Print the Name, Size and Output of layer in Keras Model"
   ]
  },
  {
   "cell_type": "markdown",
   "metadata": {},
   "source": [
    "## CONCLUSION:\n",
    "\n",
    "#### - Predicted Pre-Defined Reviews as Well as For Any Custom Review that is Not in IMDB dataset, even if it is sarcastic. \n",
    "#### - Retrive the Output of Each Layer in Keras For a Given Single Test Sample From the Trained Model to Built"
   ]
  }
 ],
 "metadata": {
  "kernelspec": {
   "display_name": "Python 3",
   "language": "python",
   "name": "python3"
  },
  "language_info": {
   "codemirror_mode": {
    "name": "ipython",
    "version": 3
   },
   "file_extension": ".py",
   "mimetype": "text/x-python",
   "name": "python",
   "nbconvert_exporter": "python",
   "pygments_lexer": "ipython3",
   "version": "3.7.3"
  }
 },
 "nbformat": 4,
 "nbformat_minor": 2
}
